{
 "cells": [
  {
   "cell_type": "markdown",
   "metadata": {},
   "source": [
    "# Introduction to Window Functions Part 2\n",
    "\n",
    "## Introduction\n",
    "We looked at various window functions over some window. In this lesson, we'll look at how to compare preceding or following rows using other window functions, like `LAG()` and `LEAD()`.\n",
    "\n",
    "## Objectives\n",
    "- Learn when to use `LAG()` and `LEAD()`"
   ]
  },
  {
   "cell_type": "markdown",
   "metadata": {},
   "source": [
    "### What these functions do?\n",
    "These functions compare values between records, either preceding or following, compared to the current row that you're looking at. Like other window functions, the column to be compared needs to be specified, and optionally, the column that is getting partitioned by. `LAG()` compares values between the preceding row and the current row; `LEAD()` compares with the following row and the current row."
   ]
  },
  {
   "cell_type": "markdown",
   "metadata": {},
   "source": [
    "### How to use them\n",
    "\n",
    "Let's move over to [db-fiddle](https://www.db-fiddle.com/).\n",
    "Enter the following DDL to create and insert some rows into the table `SALES`.\n",
    "\n",
    "```\n",
    "CREATE TABLE SALES (\n",
    "  id INTEGER PRIMARY KEY,\n",
    "  name TEXT,\n",
    "  sales INTEGER\n",
    ");\n",
    "\n",
    "INSERT INTO SALES VALUES (1, \"Javier\", 87000);\n",
    "INSERT INTO SALES VALUES (2, \"Stephanie\", 65000);\n",
    "INSERT INTO SALES VALUES (3, \"Alice\", 68000);\n",
    "INSERT INTO SALES VALUES (4, \"Roy\", 79000);\n",
    "```\n",
    "\n",
    "Now, copy-paste this query on the right panel to see the result below.\n",
    "```\n",
    "SELECT name, sales,\n",
    "  LAG(sales) OVER(ORDER BY sales) as previous_sale_value\n",
    "FROM SALES;\n",
    "```"
   ]
  },
  {
   "cell_type": "markdown",
   "metadata": {},
   "source": [
    "The result looks like this below:\n",
    "\n",
    "| name      | sales | previous_sale_value |\n",
    "| --------- | ----- | ------------------- |\n",
    "| Stephanie | 65000 | null                |\n",
    "| Alice     | 68000 | 65000               |\n",
    "| Roy       | 79000 | 68000               |\n",
    "| Javier    | 87000 | 79000               |\n"
   ]
  },
  {
   "cell_type": "markdown",
   "metadata": {},
   "source": [
    "The `null` is there because there is no previous row to compare with. `LAG()` function literally pulls the data from the previous rows.\n",
    "Let's look at how to use `LEAD()`. All you need to do is replace `LAG` with `LEAD`, and you'll see something like below.\n",
    "\n",
    "| name      | sales | previous_sale_value |\n",
    "| --------- | ----- | ------------------- |\n",
    "| Stephanie | 65000 | 68000               |\n",
    "| Alice     | 68000 | 79000               |\n",
    "| Roy       | 79000 | 87000               |\n",
    "| Javier    | 87000 |  null               |\n",
    "\n",
    "The null is there in the fourth row because there is no next row to compare with.\n",
    "\n",
    "So these two functions look like they just replicate data. How can we use them better?\n"
   ]
  },
  {
   "cell_type": "markdown",
   "metadata": {},
   "source": [
    "### Use differences!\n",
    "\n",
    "Let's copy-paste this DDL again.\n",
    "\n",
    "```\n",
    "CREATE TABLE ANNUAL_SALES (\n",
    "  id INTEGER PRIMARY KEY,\n",
    "  year INTEGER,\n",
    "  sales INTEGER\n",
    ");\n",
    "\n",
    "INSERT INTO ANNUAL_SALES VALUES (1, 2016, 87000);\n",
    "INSERT INTO ANNUAL_SALES VALUES (2, 2017, 65000);\n",
    "INSERT INTO ANNUAL_SALES VALUES (3, 2018, 68000);\n",
    "INSERT INTO ANNUAL_SALES VALUES (4, 2019, 79000);\n",
    "INSERT INTO ANNUAL_SALES VALUES (5, 2020, 83000);\n",
    "INSERT INTO ANNUAL_SALES VALUES (6, 2021, 92000);\n",
    "INSERT INTO ANNUAL_SALES VALUES (7, 2022, 98000);\n",
    "```\n",
    "\n",
    "And run this query on the right panel.\n",
    "\n",
    "```\n",
    "SELECT \n",
    "   year,\n",
    "   sales AS current_total_sale,\n",
    "   LAG(sales) OVER(ORDER BY year) AS previous_total_sale,\n",
    "   sales - LAG(sales) OVER(ORDER BY year) AS difference\n",
    "FROM ANNUAL_SALES;\n",
    "```\n",
    "\n",
    "You should see result like this below:\n",
    "\n",
    "| year | current_total_sale | previous_total_sale | difference |\n",
    "| ---- | ------------------ | ------------------- | ---------- |\n",
    "| 2016 | 87000              |                     |            |\n",
    "| 2017 | 65000              | 87000               | -22000     |\n",
    "| 2018 | 68000              | 65000               | 3000       |\n",
    "| 2019 | 79000              | 68000               | 11000      |\n",
    "| 2020 | 83000              | 79000               | 4000       |\n",
    "| 2021 | 92000              | 83000               | 9000       |\n",
    "| 2022 | 98000              | 92000               | 6000       |\n",
    "\n",
    "Because we used `LAG` function, we expected to see null values for the first rows. The useful column here is `difference` where we can see the difference between the previous year and current year's sales. It makes sense to use `LAG` function here because we mostly want to compare the sales to the previous years.\n"
   ]
  },
  {
   "cell_type": "markdown",
   "metadata": {},
   "source": [
    "### Summary\n",
    "\n",
    "We looked at how to use `LAG()` and `LEAD()` functions using examples. `LAG()` pulls data from the previous row, and `LEAD()` pulls data from the following rows. Depending on which kind of data you work with, you can choose the function of your choice to present your data."
   ]
  }
 ],
 "metadata": {
  "kernelspec": {
   "display_name": "Python 3",
   "language": "python",
   "name": "python3"
  },
  "language_info": {
   "codemirror_mode": {
    "name": "ipython",
    "version": 3
   },
   "file_extension": ".py",
   "mimetype": "text/x-python",
   "name": "python",
   "nbconvert_exporter": "python",
   "pygments_lexer": "ipython3",
   "version": "3.8.5"
  }
 },
 "nbformat": 4,
 "nbformat_minor": 4
}
